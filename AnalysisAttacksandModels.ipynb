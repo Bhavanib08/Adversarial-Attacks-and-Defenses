{
  "nbformat": 4,
  "nbformat_minor": 0,
  "metadata": {
    "colab": {
      "name": "AnalysisAttacksandModels.ipynb",
      "provenance": []
    },
    "kernelspec": {
      "name": "python3",
      "display_name": "Python 3"
    },
    "accelerator": "GPU"
  },
  "cells": [
    {
      "cell_type": "markdown",
      "metadata": {
        "id": "rtaQ5SQJuNOU",
        "colab_type": "text"
      },
      "source": [
        "### **Loading the required Libraries**"
      ]
    },
    {
      "cell_type": "code",
      "metadata": {
        "id": "_MZ2v0T59BxP",
        "colab_type": "code",
        "colab": {}
      },
      "source": [
        "import tensorflow as tf\n",
        "from tensorflow.keras.datasets import mnist, cifar10, cifar100\n",
        "from keras.models import Sequential\n",
        "from keras.applications import VGG19\n",
        "from keras.applications import VGG16\n",
        "from keras.layers import Dense, Flatten\n",
        "from keras.layers import Dropout,Conv2D, MaxPooling2D,Activation\n",
        "from keras.applications import resnet50,mobilenet\n",
        "# from tensorflow.keras import Sequential\n",
        "import numpy as np\n",
        "import random\n",
        "import numpy as np\n",
        "import matplotlib.pyplot as plt\n",
        "import torch\n",
        "import torch.nn as nn\n",
        "import torch.nn.functional as F\n",
        "import torch.optim as optim\n",
        "from torchvision import transforms,datasets\n",
        "import pandas as pd\n",
        "import warnings\n",
        "warnings.filterwarnings('ignore')"
      ],
      "execution_count": null,
      "outputs": []
    },
    {
      "cell_type": "markdown",
      "metadata": {
        "id": "RlwjlrX1uU8U",
        "colab_type": "text"
      },
      "source": [
        "## Loading the dataset"
      ]
    },
    {
      "cell_type": "code",
      "metadata": {
        "id": "iX5poZ_N9K5T",
        "colab_type": "code",
        "colab": {
          "base_uri": "https://localhost:8080/",
          "height": 51
        },
        "outputId": "e8ccfec6-d04b-4798-830c-2b69e2cb2f46"
      },
      "source": [
        "(x_train, y_train), (x_test, y_test) = mnist.load_data()"
      ],
      "execution_count": null,
      "outputs": [
        {
          "output_type": "stream",
          "text": [
            "Downloading data from https://storage.googleapis.com/tensorflow/tf-keras-datasets/mnist.npz\n",
            "11493376/11490434 [==============================] - 0s 0us/step\n"
          ],
          "name": "stdout"
        }
      ]
    },
    {
      "cell_type": "markdown",
      "metadata": {
        "id": "nyYynLDquYtJ",
        "colab_type": "text"
      },
      "source": [
        "## Normalizing and reshaping the model for baseline model"
      ]
    },
    {
      "cell_type": "code",
      "metadata": {
        "id": "inQdlP939V6b",
        "colab_type": "code",
        "colab": {
          "base_uri": "https://localhost:8080/",
          "height": 34
        },
        "outputId": "e04ac369-74a1-4549-e240-40b66ef03720"
      },
      "source": [
        "img_rows, img_cols, channels = 28, 28, 1\n",
        "num_classes = 10\n",
        "x_train = x_train / 255\n",
        "x_test = x_test / 255\n",
        "x_train = x_train.reshape((-1, img_rows, img_cols, channels))\n",
        "x_test = x_test.reshape((-1, img_rows, img_cols, channels))\n",
        "y_train = tf.keras.utils.to_categorical(y_train, num_classes)\n",
        "y_test = tf.keras.utils.to_categorical(y_test, num_classes)\n",
        "print(\"Data shapes\", x_test.shape, y_test.shape, x_train.shape, y_train.shape)"
      ],
      "execution_count": null,
      "outputs": [
        {
          "output_type": "stream",
          "text": [
            "Data shapes (10000, 28, 28, 1) (10000, 10) (60000, 28, 28, 1) (60000, 10)\n"
          ],
          "name": "stdout"
        }
      ]
    },
    {
      "cell_type": "markdown",
      "metadata": {
        "id": "N3PbKnGTuo7S",
        "colab_type": "text"
      },
      "source": [
        "## Defining functions for Precision, Recall and F1Score"
      ]
    },
    {
      "cell_type": "code",
      "metadata": {
        "id": "c8m1OvWGGZXn",
        "colab_type": "code",
        "colab": {}
      },
      "source": [
        "from keras import backend as K\n",
        "def recall_m(y_true, y_pred):\n",
        "    true_positives = K.sum(K.round(K.clip(y_true * y_pred, 0, 1)))\n",
        "    possible_positives = K.sum(K.round(K.clip(y_true, 0, 1)))\n",
        "    recall = true_positives / (possible_positives + K.epsilon())\n",
        "    return recall\n",
        "\n",
        "def precision_m(y_true, y_pred):\n",
        "    true_positives = K.sum(K.round(K.clip(y_true * y_pred, 0, 1)))\n",
        "    predicted_positives = K.sum(K.round(K.clip(y_pred, 0, 1)))\n",
        "    precision = true_positives / (predicted_positives + K.epsilon())\n",
        "    return precision\n",
        "\n",
        "def f1_m(y_true, y_pred):\n",
        "    precision = precision_m(y_true, y_pred)\n",
        "    recall = recall_m(y_true, y_pred)\n",
        "    return 2*((precision*recall)/(precision+recall+K.epsilon()))"
      ],
      "execution_count": null,
      "outputs": []
    },
    {
      "cell_type": "markdown",
      "metadata": {
        "id": "MC2G-QJcuvO_",
        "colab_type": "text"
      },
      "source": [
        "## Defining the baseline model"
      ]
    },
    {
      "cell_type": "code",
      "metadata": {
        "id": "W47N4nm19bVk",
        "colab_type": "code",
        "colab": {}
      },
      "source": [
        "def create_basemodel():\n",
        "    model = Sequential()\n",
        "    model.add(Conv2D(32, kernel_size=(3, 3), strides=(3, 3), padding='same', activation='relu', input_shape=(img_rows, img_cols, channels)))\n",
        "    model.add(Conv2D(64, kernel_size=(3, 3), strides=(3, 3), padding='same', activation='relu'))\n",
        "    model.add(Conv2D(64, kernel_size=(3, 3), strides=(3, 3), padding='same', activation='relu'))\n",
        "    model.add(MaxPooling2D(pool_size=(2, 2)))\n",
        "    model.add(Dropout(0.2))\n",
        "    model.add(Flatten())\n",
        "    model.add(Dense(32))\n",
        "    model.add(Dropout(0.2))\n",
        "    model.add(Dense(32))\n",
        "    model.add(Dropout(0.2))\n",
        "    model.add(Dense(num_classes, activation='softmax'))\n",
        "    model.compile(optimizer='adam', loss='categorical_crossentropy', metrics=['accuracy',f1_m,precision_m,recall_m])\n",
        "    return model"
      ],
      "execution_count": null,
      "outputs": []
    },
    {
      "cell_type": "markdown",
      "metadata": {
        "id": "xXunYUBqvK6n",
        "colab_type": "text"
      },
      "source": [
        "## Training the Baseline model ad saving the weights"
      ]
    },
    {
      "cell_type": "code",
      "metadata": {
        "id": "ndc_tBAnvDKI",
        "colab_type": "code",
        "colab": {}
      },
      "source": [
        "base_model = create_basemodel() \n",
        "history=base_model.fit(x_train, y_train,batch_size=258,epochs=10)"
      ],
      "execution_count": null,
      "outputs": []
    },
    {
      "cell_type": "code",
      "metadata": {
        "id": "-9Uf79jplCCl",
        "colab_type": "code",
        "colab": {}
      },
      "source": [
        "base_model.save('base_model_nrml.h5')"
      ],
      "execution_count": null,
      "outputs": []
    },
    {
      "cell_type": "code",
      "metadata": {
        "id": "1wwSzGvn97Cx",
        "colab_type": "code",
        "colab": {}
      },
      "source": [
        "def create_plot():\n",
        "      result_tab=pd.DataFrame({\"Accuracy\":history.history['accuracy'],\"F1Score\":history.history['f1_m'], \"Precision\":history.history['precision_m'],\"Recall\":history.history['recall_m']})\n",
        "      fig = plt.figure(figsize=(5,5))\n",
        "      plt.plot(np.arange(1,11), history.history['accuracy'], \"*-\",label=\"Accuracy\")\n",
        "      plt.xlabel(\"Num of epochs\")\n",
        "      plt.legend()\n",
        "      plt.show()\n",
        "      return result_tab"
      ],
      "execution_count": null,
      "outputs": []
    },
    {
      "cell_type": "markdown",
      "metadata": {
        "id": "xQYlVYN8vRO4",
        "colab_type": "text"
      },
      "source": [
        "## Accuracy Plot and Other metrics tabulation"
      ]
    },
    {
      "cell_type": "code",
      "metadata": {
        "id": "JI-4Zdy-LYjy",
        "colab_type": "code",
        "colab": {
          "base_uri": "https://localhost:8080/",
          "height": 525
        },
        "outputId": "4263bbc6-9b7a-4a64-eb74-c20290182387"
      },
      "source": [
        "tab=create_plot()\n",
        "print(tab)"
      ],
      "execution_count": null,
      "outputs": [
        {
          "output_type": "display_data",
          "data": {
            "image/png": "[encoded data removed]",
            "text/plain": [
              "<Figure size 360x360 with 1 Axes>"
            ]
          },
          "metadata": {
            "tags": [],
            "needs_background": "light"
          }
        },
        {
          "output_type": "stream",
          "text": [
            "   Accuracy   F1Score  Precision    Recall\n",
            "0  0.727283  0.668227   0.777280  0.614366\n",
            "1  0.911600  0.910905   0.931918  0.890945\n",
            "2  0.936083  0.937023   0.949763  0.924669\n",
            "3  0.946150  0.946564   0.956706  0.936679\n",
            "4  0.954017  0.955073   0.963027  0.947280\n",
            "5  0.958117  0.958680   0.965360  0.952121\n",
            "6  0.962183  0.962582   0.968365  0.956891\n",
            "7  0.965950  0.965953   0.971568  0.960427\n",
            "8  0.966933  0.967459   0.972421  0.962567\n",
            "9  0.969433  0.969814   0.974140  0.965545\n"
          ],
          "name": "stdout"
        }
      ]
    },
    {
      "cell_type": "code",
      "metadata": {
        "id": "B2k4mVzd9uOe",
        "colab_type": "code",
        "colab": {
          "base_uri": "https://localhost:8080/",
          "height": 85
        },
        "outputId": "f2c154e1-57df-4435-e252-063d25090c20"
      },
      "source": [
        "base_model.load_weights(r'/content/drive/My Drive/SavedModels/base_model_nrml.h5')\n",
        "\n",
        "Test_Result=base_model.evaluate(x=x_test, y=y_test, verbose=0)\n",
        "print(\"Analysis on normal Images\")\n",
        "print(\"Base Loss: \", Test_Result[0])\n",
        "print(\"Accuracy :\" , Test_Result[1])\n",
        "print(\"F1_Score :\", Test_Result[2])"
      ],
      "execution_count": null,
      "outputs": [
        {
          "output_type": "stream",
          "text": [
            "Analysis on normal Images\n",
            "Base Loss:  0.06749091297388077\n",
            "Accuracy : 0.9787999987602234\n",
            "F1_Score : 0.9796484112739563\n"
          ],
          "name": "stdout"
        }
      ]
    },
    {
      "cell_type": "markdown",
      "metadata": {
        "id": "wQJt20HavZfs",
        "colab_type": "text"
      },
      "source": [
        "## Normalizing and reshaping the data for Pre-Trained Models"
      ]
    },
    {
      "cell_type": "code",
      "metadata": {
        "id": "TK_8fiXHNrD0",
        "colab_type": "code",
        "colab": {}
      },
      "source": [
        "nbr_of_clases = 10\n",
        "IMG_SIZE = 32"
      ],
      "execution_count": null,
      "outputs": []
    },
    {
      "cell_type": "code",
      "metadata": {
        "id": "fpAgCfZlNhgb",
        "colab_type": "code",
        "colab": {}
      },
      "source": [
        "import cv2\n",
        "def resize(img_array):\n",
        "    tmp = np.empty((img_array.shape[0], IMG_SIZE, IMG_SIZE))\n",
        "    for i in range(len(img_array)):\n",
        "        # print('a',img_array[i].shape)\n",
        "        img = img_array[i].reshape(28, 28).astype('uint8')\n",
        "        # print('b',img.shape)\n",
        "        img = cv2.resize(img, (IMG_SIZE, IMG_SIZE))\n",
        "        # print('c',img.shape)\n",
        "        img = img.astype('float32')/255\n",
        "        tmp[i] = img   \n",
        "    return tmp"
      ],
      "execution_count": null,
      "outputs": []
    },
    {
      "cell_type": "code",
      "metadata": {
        "id": "CbZeahH-NlCO",
        "colab_type": "code",
        "colab": {}
      },
      "source": [
        "def create_data():\n",
        "      (x_train_1, y_train_1), (x_test_1, y_test_1) = mnist.load_data()\n",
        "      train_x_resize = resize(x_train_1)\n",
        "      test_x_resize = resize(x_test_1)\n",
        "      train_x_final = np.stack((train_x_resize,)*3, axis=-1)\n",
        "      test_x_final = np.stack((test_x_resize,)*3, axis=-1)\n",
        "      # print(train_x_final.shape)\n",
        "      # print(test_x_final.shape)\n",
        "      from keras.utils import to_categorical\n",
        "      train_y_final = to_categorical(y_train_1, num_classes=10)\n",
        "      # print(train_y_final.shape)\n",
        "      test_y_final = to_categorical(y_test_1, num_classes=10)\n",
        "      # print(test_y_final.shape)\n",
        "      return train_x_final,test_x_final,train_y_final,test_y_final"
      ],
      "execution_count": null,
      "outputs": []
    },
    {
      "cell_type": "code",
      "metadata": {
        "id": "FOWGOoTtpYWo",
        "colab_type": "code",
        "colab": {}
      },
      "source": [
        "x_train_1,x_test_1,y_train_1,y_test_1=create_data()"
      ],
      "execution_count": null,
      "outputs": []
    },
    {
      "cell_type": "markdown",
      "metadata": {
        "id": "0IBLphWavjlz",
        "colab_type": "text"
      },
      "source": [
        "## Pretrained Model - VGG19"
      ]
    },
    {
      "cell_type": "code",
      "metadata": {
        "id": "J3b0Jx5qE7b2",
        "colab_type": "code",
        "colab": {}
      },
      "source": [
        "def vgg_19():\n",
        "    vgg19 = VGG19(weights = 'imagenet', \n",
        "                  include_top = False,\n",
        "                  input_shape=(IMG_SIZE, IMG_SIZE, 3))\n",
        "    model_vgg19 = Sequential()\n",
        "    model_vgg19.add(vgg19)\n",
        "    model_vgg19.add(Dropout(0.4))\n",
        "    model_vgg19.add(Flatten())\n",
        "    model_vgg19.add(Dense(10, activation='softmax'))\n",
        "    model_vgg19.compile(loss='categorical_crossentropy', \n",
        "                  optimizer='sgd', \n",
        "                  metrics=['accuracy',f1_m,precision_m,recall_m])\n",
        "    model_vgg19.summary()\n",
        "    return model_vgg19"
      ],
      "execution_count": null,
      "outputs": []
    },
    {
      "cell_type": "code",
      "metadata": {
        "id": "z94RQI0vNFaN",
        "colab_type": "code",
        "colab": {
          "base_uri": "https://localhost:8080/",
          "height": 343
        },
        "outputId": "f8ccb234-5f91-43cd-97df-ae8779a0fa0c"
      },
      "source": [
        "model_vgg19=vgg_19()\n",
        "# history = model_vgg19.fit(x_train_1, y_train_1, epochs=10,batch_size=258,verbose=1)"
      ],
      "execution_count": null,
      "outputs": [
        {
          "output_type": "stream",
          "text": [
            "Downloading data from https://storage.googleapis.com/tensorflow/keras-applications/vgg19/vgg19_weights_tf_dim_ordering_tf_kernels_notop.h5\n",
            "80142336/80134624 [==============================] - 0s 0us/step\n",
            "Model: \"sequential_1\"\n",
            "_________________________________________________________________\n",
            "Layer (type)                 Output Shape              Param #   \n",
            "=================================================================\n",
            "vgg19 (Functional)           (None, 1, 1, 512)         20024384  \n",
            "_________________________________________________________________\n",
            "dropout_3 (Dropout)          (None, 1, 1, 512)         0         \n",
            "_________________________________________________________________\n",
            "flatten_1 (Flatten)          (None, 512)               0         \n",
            "_________________________________________________________________\n",
            "dense_3 (Dense)              (None, 10)                5130      \n",
            "=================================================================\n",
            "Total params: 20,029,514\n",
            "Trainable params: 20,029,514\n",
            "Non-trainable params: 0\n",
            "_________________________________________________________________\n"
          ],
          "name": "stdout"
        }
      ]
    },
    {
      "cell_type": "code",
      "metadata": {
        "id": "8yeZ44zAnTkF",
        "colab_type": "code",
        "colab": {}
      },
      "source": [
        "model_vgg19.save('vgg19_model_nrml.h5')"
      ],
      "execution_count": null,
      "outputs": []
    },
    {
      "cell_type": "code",
      "metadata": {
        "id": "7tNqsnKMYOXq",
        "colab_type": "code",
        "colab": {
          "base_uri": "https://localhost:8080/",
          "height": 525
        },
        "outputId": "4aab84f2-170b-4be0-cfda-4a7ff79f4bf7"
      },
      "source": [
        "tab=create_plot()\n",
        "print(tab)"
      ],
      "execution_count": null,
      "outputs": [
        {
          "output_type": "display_data",
          "data": {
            "image/png": "[encoded data removed]",
            "text/plain": [
              "<Figure size 360x360 with 1 Axes>"
            ]
          },
          "metadata": {
            "tags": [],
            "needs_background": "light"
          }
        },
        {
          "output_type": "stream",
          "text": [
            "   Accuracy   F1Score  Precision    Recall\n",
            "0  0.881100  0.860663   0.932332  0.837354\n",
            "1  0.985933  0.985992   0.987881  0.984118\n",
            "2  0.989817  0.989953   0.991186  0.988729\n",
            "3  0.991800  0.991832   0.992792  0.990878\n",
            "4  0.993117  0.993239   0.994085  0.992398\n",
            "5  0.993900  0.993851   0.994556  0.993150\n",
            "6  0.994633  0.994589   0.995029  0.994152\n",
            "7  0.995067  0.995055   0.995602  0.994511\n",
            "8  0.995850  0.995842   0.996207  0.995479\n",
            "9  0.996150  0.996222   0.996588  0.995858\n"
          ],
          "name": "stdout"
        }
      ]
    },
    {
      "cell_type": "code",
      "metadata": {
        "id": "BtPl_1sdS-Zh",
        "colab_type": "code",
        "colab": {
          "base_uri": "https://localhost:8080/",
          "height": 85
        },
        "outputId": "9182eac8-184b-48b4-b386-e67519fee730"
      },
      "source": [
        "model_vgg19.load_weights(r'/content/drive/My Drive/SavedModels/vgg19_model_nrml.h5')\n",
        "Test_Result=model_vgg19.evaluate(x=x_test_1, y=y_test_1, verbose=0)\n",
        "print(\"Analysis on normal Images\")\n",
        "print(\"Loss: \", Test_Result[0])\n",
        "print(\"Accuracy :\" , Test_Result[1])\n",
        "print(\"F1_Score :\", Test_Result[2])"
      ],
      "execution_count": null,
      "outputs": [
        {
          "output_type": "stream",
          "text": [
            "Analysis on normal Images\n",
            "Loss:  0.016575757414102554\n",
            "Accuracy : 0.994700014591217\n",
            "F1_Score : 0.9948003888130188\n"
          ],
          "name": "stdout"
        }
      ]
    },
    {
      "cell_type": "markdown",
      "metadata": {
        "id": "rXHPKyBcvrZq",
        "colab_type": "text"
      },
      "source": [
        "## Pre-Trained Model - VGG16"
      ]
    },
    {
      "cell_type": "code",
      "metadata": {
        "id": "QaVD-7qIVhcY",
        "colab_type": "code",
        "colab": {}
      },
      "source": [
        "def vgg_16():\n",
        "    vgg16 = VGG16(weights = 'imagenet', \n",
        "                  include_top = False,\n",
        "                  input_shape=(IMG_SIZE, IMG_SIZE, 3))\n",
        "    model_vgg16 = Sequential()\n",
        "    model_vgg16.add(vgg16)\n",
        "    model_vgg16.add(Dropout(0.4))\n",
        "    model_vgg16.add(Flatten())\n",
        "    model_vgg16.add(Dense(10, activation='softmax'))\n",
        "    model_vgg16.compile(loss='categorical_crossentropy', \n",
        "                  optimizer='sgd', \n",
        "                  metrics=['accuracy',f1_m,precision_m,recall_m])\n",
        "    model_vgg16.summary()\n",
        "    return model_vgg16"
      ],
      "execution_count": null,
      "outputs": []
    },
    {
      "cell_type": "code",
      "metadata": {
        "id": "FY0ze1RbV6c0",
        "colab_type": "code",
        "colab": {
          "base_uri": "https://localhost:8080/",
          "height": 343
        },
        "outputId": "a32c297e-944e-4d9c-e310-051eb6f2aa1a"
      },
      "source": [
        "model_vgg16=vgg_16()\n",
        "# # history = model_vgg16.fit(x_train_1,y_train_1 , \n",
        "#                     epochs=10, \n",
        "#                     batch_size=258)"
      ],
      "execution_count": null,
      "outputs": [
        {
          "output_type": "stream",
          "text": [
            "Downloading data from https://storage.googleapis.com/tensorflow/keras-applications/vgg16/vgg16_weights_tf_dim_ordering_tf_kernels_notop.h5\n",
            "58892288/58889256 [==============================] - 0s 0us/step\n",
            "Model: \"sequential_2\"\n",
            "_________________________________________________________________\n",
            "Layer (type)                 Output Shape              Param #   \n",
            "=================================================================\n",
            "vgg16 (Functional)           (None, 1, 1, 512)         14714688  \n",
            "_________________________________________________________________\n",
            "dropout_4 (Dropout)          (None, 1, 1, 512)         0         \n",
            "_________________________________________________________________\n",
            "flatten_2 (Flatten)          (None, 512)               0         \n",
            "_________________________________________________________________\n",
            "dense_4 (Dense)              (None, 10)                5130      \n",
            "=================================================================\n",
            "Total params: 14,719,818\n",
            "Trainable params: 14,719,818\n",
            "Non-trainable params: 0\n",
            "_________________________________________________________________\n"
          ],
          "name": "stdout"
        }
      ]
    },
    {
      "cell_type": "code",
      "metadata": {
        "id": "cS7Tg9pHnnyv",
        "colab_type": "code",
        "colab": {}
      },
      "source": [
        "model_vgg16.save('vgg16_model_nrml.h5')"
      ],
      "execution_count": null,
      "outputs": []
    },
    {
      "cell_type": "code",
      "metadata": {
        "id": "bC36KmhIbTML",
        "colab_type": "code",
        "colab": {
          "base_uri": "https://localhost:8080/",
          "height": 595
        },
        "outputId": "d9830c21-ad8b-4060-ce95-191c0614327e"
      },
      "source": [
        "tab=create_plot()\n",
        "print(tab)\n",
        "model_vgg16.load_weights('vgg16_model_nrml.h5')\n",
        "Test_Result=model_vgg16.evaluate(x=x_test_1, y=y_test_1, verbose=0)\n",
        "print(\"Analysis on normal Images\")\n",
        "print(\"Loss: \", Test_Result[0])\n",
        "print(\"Accuracy :\" , Test_Result[1])\n",
        "print(\"F1_Score :\", Test_Result[2])"
      ],
      "execution_count": null,
      "outputs": [
        {
          "output_type": "display_data",
          "data": {
            "image/png": "[encoded data removed]",
            "text/plain": [
              "<Figure size 360x360 with 1 Axes>"
            ]
          },
          "metadata": {
            "tags": [],
            "needs_background": "light"
          }
        },
        {
          "output_type": "stream",
          "text": [
            "   Accuracy   F1Score  Precision    Recall\n",
            "0  0.889633  0.869721   0.932973  0.847524\n",
            "1  0.984367  0.984399   0.986623  0.982221\n",
            "2  0.990650  0.990554   0.991761  0.989354\n",
            "3  0.992017  0.992174   0.993150  0.991204\n",
            "4  0.993100  0.993240   0.994003  0.992481\n",
            "5  0.993550  0.993682   0.994322  0.993047\n",
            "6  0.994667  0.994612   0.995108  0.994118\n",
            "7  0.995300  0.995213   0.995753  0.994677\n",
            "8  0.996067  0.996051   0.996375  0.995728\n",
            "9  0.996117  0.996164   0.996488  0.995842\n",
            "Analysis on normal Images\n",
            "Loss:  0.015299591235816479\n",
            "Accuracy : 0.9954000115394592\n",
            "F1_Score : 0.9953535199165344\n"
          ],
          "name": "stdout"
        }
      ]
    },
    {
      "cell_type": "code",
      "metadata": {
        "id": "P4z_7d8Ly1ty",
        "colab_type": "code",
        "colab": {
          "base_uri": "https://localhost:8080/",
          "height": 85
        },
        "outputId": "23d81eeb-eedc-4a93-9cd3-adcb6518f96b"
      },
      "source": [
        "model_vgg16.load_weights(r'/content/drive/My Drive/SavedModels/vgg16_model_nrml.h5')\n",
        "Test_Result=model_vgg16.evaluate(x=x_test_1, y=y_test_1, verbose=0)\n",
        "print(\"Analysis on normal Images\")\n",
        "print(\"Loss: \", Test_Result[0])\n",
        "print(\"Accuracy :\" , Test_Result[1])\n",
        "print(\"F1_Score :\", Test_Result[2])"
      ],
      "execution_count": null,
      "outputs": [
        {
          "output_type": "stream",
          "text": [
            "Analysis on normal Images\n",
            "Loss:  0.015299591235816479\n",
            "Accuracy : 0.9954000115394592\n",
            "F1_Score : 0.9953535199165344\n"
          ],
          "name": "stdout"
        }
      ]
    },
    {
      "cell_type": "markdown",
      "metadata": {
        "id": "03eFF0agvzQV",
        "colab_type": "text"
      },
      "source": [
        "## Pre-Trained Model - Resnet50"
      ]
    },
    {
      "cell_type": "code",
      "metadata": {
        "id": "0dutUkqyb_Is",
        "colab_type": "code",
        "colab": {}
      },
      "source": [
        "def resnet():\n",
        "      resnet_model = resnet50.ResNet50(weights='imagenet')\n",
        "      model_resnet = Sequential()\n",
        "      model_resnet.add(resnet_model)\n",
        "      model_resnet.add(Dropout(0.4))\n",
        "      model_resnet.add(Flatten())\n",
        "      model_resnet.add(Dense(10, activation='softmax'))\n",
        "      model_resnet.compile(optimizer='adam', loss='categorical_crossentropy', metrics=['accuracy',f1_m,precision_m, recall_m])\n",
        "      model_resnet.summary()\n",
        "      return model_resnet"
      ],
      "execution_count": null,
      "outputs": []
    },
    {
      "cell_type": "code",
      "metadata": {
        "id": "NGBy7GQoczyF",
        "colab_type": "code",
        "colab": {
          "base_uri": "https://localhost:8080/",
          "height": 343
        },
        "outputId": "df7ca2f4-92ab-4379-acce-933187d4b350"
      },
      "source": [
        "model_resnet=resnet()\n",
        "# history = model_resnet.fit(x_train_1, y_train_1, \n",
        "#                     epochs=10, \n",
        "#                     batch_size=258)"
      ],
      "execution_count": null,
      "outputs": [
        {
          "output_type": "stream",
          "text": [
            "Downloading data from https://storage.googleapis.com/tensorflow/keras-applications/resnet/resnet50_weights_tf_dim_ordering_tf_kernels.h5\n",
            "102973440/102967424 [==============================] - 1s 0us/step\n",
            "Model: \"sequential_3\"\n",
            "_________________________________________________________________\n",
            "Layer (type)                 Output Shape              Param #   \n",
            "=================================================================\n",
            "resnet50 (Functional)        (None, 1000)              25636712  \n",
            "_________________________________________________________________\n",
            "dropout_5 (Dropout)          (None, 1000)              0         \n",
            "_________________________________________________________________\n",
            "flatten_3 (Flatten)          (None, 1000)              0         \n",
            "_________________________________________________________________\n",
            "dense_5 (Dense)              (None, 10)                10010     \n",
            "=================================================================\n",
            "Total params: 25,646,722\n",
            "Trainable params: 25,593,602\n",
            "Non-trainable params: 53,120\n",
            "_________________________________________________________________\n"
          ],
          "name": "stdout"
        }
      ]
    },
    {
      "cell_type": "code",
      "metadata": {
        "id": "QcSCu_vTn10j",
        "colab_type": "code",
        "colab": {}
      },
      "source": [
        "model_resnet.save('resnet_model_nrml.h5')"
      ],
      "execution_count": null,
      "outputs": []
    },
    {
      "cell_type": "code",
      "metadata": {
        "id": "95jiI1tucmDI",
        "colab_type": "code",
        "colab": {
          "base_uri": "https://localhost:8080/",
          "height": 649
        },
        "outputId": "19bbecae-15f8-437a-f61f-dadd0108da1b"
      },
      "source": [
        "tab=create_plot()\n",
        "print(tab)\n",
        "model_resnet.load_weights('resnet_model_nrml.h5')\n",
        "Test_Result=model_resnet.evaluate(x=x_test_1, y=y_test_1, verbose=0)\n",
        "print(\"Analysis on normal Images\")\n",
        "print(\"Loss: \", Test_Result[0])\n",
        "print(\"Accuracy :\" , Test_Result[1])\n",
        "print(\"F1_Score :\", Test_Result[2])"
      ],
      "execution_count": null,
      "outputs": [
        {
          "output_type": "display_data",
          "data": {
            "image/png": "[encoded data removed]",
            "text/plain": [
              "<Figure size 360x360 with 1 Axes>"
            ]
          },
          "metadata": {
            "tags": [],
            "needs_background": "light"
          }
        },
        {
          "output_type": "stream",
          "text": [
            "   Accuracy   F1Score  Precision    Recall\n",
            "0  0.514817  0.000000   0.000000  0.000000\n",
            "1  0.584117  0.000000   0.000000  0.000000\n",
            "2  0.607950  0.048761   0.147482  0.031571\n",
            "3  0.609450  0.666016   0.947607  0.516682\n",
            "4  0.627417  0.725074   0.968543  0.579962\n",
            "5  0.633317  0.734031   0.979851  0.587390\n",
            "6  0.632700  0.733069   0.982247  0.585273\n",
            "7  0.636217  0.736633   0.984659  0.588959\n",
            "8  0.636217  0.737212   0.986932  0.588923\n",
            "9  0.637833  0.739260   0.990484  0.590253\n",
            "WARNING:tensorflow:Model was constructed with shape (None, 224, 224, 3) for input Tensor(\"resnet50_input:0\", shape=(None, 224, 224, 3), dtype=float32), but it was called on an input with incompatible shape (None, 32, 32, 3).\n",
            "WARNING:tensorflow:Model was constructed with shape (None, 224, 224, 3) for input Tensor(\"input_3:0\", shape=(None, 224, 224, 3), dtype=float32), but it was called on an input with incompatible shape (None, 32, 32, 3).\n",
            "Analysis on normal Images\n",
            "Loss:  0.5024979710578918\n",
            "Accuracy : 0.9836999773979187\n",
            "F1_Score : 0.981224775314331\n"
          ],
          "name": "stdout"
        }
      ]
    },
    {
      "cell_type": "markdown",
      "metadata": {
        "id": "eOMl5d5Rv5ao",
        "colab_type": "text"
      },
      "source": [
        "### **Pre-Trained Model -- Mobilenet**"
      ]
    },
    {
      "cell_type": "code",
      "metadata": {
        "id": "CCNXDrd1dqjN",
        "colab_type": "code",
        "colab": {}
      },
      "source": [
        "def mobilenet():\n",
        "      mobilenet_model = tf.keras.applications.MobileNet(weights = 'imagenet')\n",
        "      model_mobilenet = Sequential()\n",
        "      model_mobilenet.add(mobilenet_model)\n",
        "      model_mobilenet.add(Dropout(0.4))\n",
        "      model_mobilenet.add(Flatten())\n",
        "      model_mobilenet.add(Dense(10, activation='softmax'))\n",
        "      model_mobilenet.compile(loss='categorical_crossentropy', \n",
        "                    optimizer='adam', \n",
        "                    metrics=['accuracy',f1_m,precision_m, recall_m])\n",
        "\n",
        "      model_mobilenet.summary()\n",
        "      return model_mobilenet"
      ],
      "execution_count": null,
      "outputs": []
    },
    {
      "cell_type": "code",
      "metadata": {
        "id": "OuLDebjVd-ye",
        "colab_type": "code",
        "colab": {
          "base_uri": "https://localhost:8080/",
          "height": 343
        },
        "outputId": "10a53451-d139-41f7-d7dc-1ee10b91e893"
      },
      "source": [
        "model_mobilenet=mobilenet()\n",
        "# history = model_mobilenet.fit(x_train_1, y_train_1, \n",
        "#                     epochs=10, \n",
        "#                     batch_size=258)"
      ],
      "execution_count": null,
      "outputs": [
        {
          "output_type": "stream",
          "text": [
            "Downloading data from https://storage.googleapis.com/tensorflow/keras-applications/mobilenet/mobilenet_1_0_224_tf.h5\n",
            "17227776/17225924 [==============================] - 0s 0us/step\n",
            "Model: \"sequential_4\"\n",
            "_________________________________________________________________\n",
            "Layer (type)                 Output Shape              Param #   \n",
            "=================================================================\n",
            "mobilenet_1.00_224 (Function (None, 1000)              4253864   \n",
            "_________________________________________________________________\n",
            "dropout_6 (Dropout)          (None, 1000)              0         \n",
            "_________________________________________________________________\n",
            "flatten_4 (Flatten)          (None, 1000)              0         \n",
            "_________________________________________________________________\n",
            "dense_6 (Dense)              (None, 10)                10010     \n",
            "=================================================================\n",
            "Total params: 4,263,874\n",
            "Trainable params: 4,241,986\n",
            "Non-trainable params: 21,888\n",
            "_________________________________________________________________\n"
          ],
          "name": "stdout"
        }
      ]
    },
    {
      "cell_type": "code",
      "metadata": {
        "id": "jPq-Mf3voI0r",
        "colab_type": "code",
        "colab": {}
      },
      "source": [
        "model_mobilenet.save('mobilenet_model_nrml.h5')"
      ],
      "execution_count": null,
      "outputs": []
    },
    {
      "cell_type": "code",
      "metadata": {
        "id": "oG7-kQOGeFf9",
        "colab_type": "code",
        "colab": {
          "base_uri": "https://localhost:8080/",
          "height": 173
        },
        "outputId": "26262b81-cd71-4087-86db-7be1e00af4e9"
      },
      "source": [
        "model_mobilenet.load_weights(r'/content/drive/My Drive/SavedModels/mobilenet_model_nrml.h5')\n",
        "Test_Result=model_mobilenet.evaluate(x=x_test_1, y=y_test_1, verbose=0)\n",
        "print(\"Analysis on normal Images\")\n",
        "print(\"Loss: \", Test_Result[0])\n",
        "print(\"Accuracy :\" , Test_Result[1])\n",
        "print(\"F1_Score :\", Test_Result[2])"
      ],
      "execution_count": null,
      "outputs": [
        {
          "output_type": "stream",
          "text": [
            "WARNING:tensorflow:Model was constructed with shape (None, 224, 224, 3) for input Tensor(\"mobilenet_1.00_224_input:0\", shape=(None, 224, 224, 3), dtype=float32), but it was called on an input with incompatible shape (None, 32, 32, 3).\n",
            "WARNING:tensorflow:Model was constructed with shape (None, 224, 224, 3) for input Tensor(\"input_4:0\", shape=(None, 224, 224, 3), dtype=float32), but it was called on an input with incompatible shape (None, 32, 32, 3).\n",
            "WARNING:tensorflow:Model was constructed with shape (None, 224, 224, 3) for input Tensor(\"mobilenet_1.00_224_input:0\", shape=(None, 224, 224, 3), dtype=float32), but it was called on an input with incompatible shape (None, 32, 32, 3).\n",
            "WARNING:tensorflow:Model was constructed with shape (None, 224, 224, 3) for input Tensor(\"input_4:0\", shape=(None, 224, 224, 3), dtype=float32), but it was called on an input with incompatible shape (None, 32, 32, 3).\n",
            "Analysis on normal Images\n",
            "Loss:  0.696761965751648\n",
            "Accuracy : 0.9325000047683716\n",
            "F1_Score : 0.9238060116767883\n"
          ],
          "name": "stdout"
        }
      ]
    },
    {
      "cell_type": "markdown",
      "metadata": {
        "id": "ZsQS-6Jfv-n4",
        "colab_type": "text"
      },
      "source": [
        "## Defining functions to generated perturbated images"
      ]
    },
    {
      "cell_type": "code",
      "metadata": {
        "id": "K7NtssuOg9Iq",
        "colab_type": "code",
        "colab": {}
      },
      "source": [
        "def adversarial_pattern(image, label,model):\n",
        "    image = tf.cast(image, tf.float32)\n",
        "    with tf.GradientTape() as tape:\n",
        "        tape.watch(image)\n",
        "        prediction = model(image)\n",
        "        loss = tf.keras.losses.MSE(label, prediction)\n",
        "    gradient = tape.gradient(loss, image)\n",
        "    signed_grad = tf.sign(gradient)\n",
        "    return signed_grad"
      ],
      "execution_count": null,
      "outputs": []
    },
    {
      "cell_type": "code",
      "metadata": {
        "id": "-APLCaWewOte",
        "colab_type": "code",
        "colab": {}
      },
      "source": [
        "def generate_adversarials(batch_size,attack,x_train,y_train,model):\n",
        "    while True:\n",
        "        x = []\n",
        "        y = []\n",
        "        for batch in range(batch_size):\n",
        "            N = random.randint(0, 100)\n",
        "            label = y_train[N]\n",
        "            image = x_train[N]\n",
        "            perturbations = adversarial_pattern(image.reshape(-1,img_rows, img_cols, channels),label,model).numpy()\n",
        "            epsilon = 0.1\n",
        "            decay_factor=1.0\n",
        "            iter = 10\n",
        "            alpha = epsilon/iter\n",
        "            g=0\n",
        "            pert_out = image\n",
        "            if attack == \"fgsm\":\n",
        "              pert_out = pert_out + perturbations * epsilon\n",
        "              x.append(pert_out)\n",
        "              y.append(y_train[N])\n",
        "            elif attack == \"s&p\":\n",
        "              row,col,ch = image.shape\n",
        "              s_vs_p = 0.5\n",
        "              amount = 0.4\n",
        "              out = np.copy(image)\n",
        "              # Salt mode\n",
        "              num_salt = np.ceil(amount * image.size * s_vs_p)\n",
        "              # print(num_salt)\n",
        "              coords = [np.random.randint(0, j - 1, int(num_salt))\n",
        "                      for j in image.shape]\n",
        "              # print(coords)\n",
        "              out[coords[0], coords[1], coords[2]] = 1\n",
        "\n",
        "              # Pepper mode\n",
        "              num_pepper = np.ceil(amount* image.size * (1. - s_vs_p))\n",
        "              # print (num_pepper)\n",
        "              coords = [np.random.randint(0, j - 1, int(num_pepper))\n",
        "                      for j in image.shape]\n",
        "              out[coords[0], coords[1], coords[2]] = 0\n",
        "              # plt.imshow(out)\n",
        "              # plt.show()\n",
        "              x.append(out)\n",
        "              y.append(train_y_final[N])\n",
        "            elif attack == \"rnoise\":\n",
        "              noise_factor = 1\n",
        "              noisy = image + noise_factor * np.random.normal(loc=0.0, scale=1.0, size=image.shape) \n",
        "              out = np.clip(noisy, 0., 1.)\n",
        "              x.append(out)\n",
        "              y.append(train_y_final[N])\n",
        "            elif attack == \"pgd\":\n",
        "              for i in range(iter-1):\n",
        "                pert_out = pert_out + alpha*perturbations\n",
        "                pert_out = torch.from_numpy(pert_out)\n",
        "                pert_out = torch.clamp(pert_out, 0, 1)\n",
        "                if torch.norm((pert_out-image),p=float('inf')) > epsilon:\n",
        "                  break\n",
        "                pert_out = pert_out.numpy()\n",
        "              x.append(pert_out)\n",
        "              y.append(y_train[N])\n",
        "            elif attack == \"mifgsm\":\n",
        "              for i in range(iter-1):\n",
        "                p = torch.from_numpy(perturbations)\n",
        "                g = decay_factor*g + p/torch.norm(p)\n",
        "                pert_out = torch.from_numpy(pert_out)\n",
        "                pert_out = pert_out + alpha*torch.sign(g)\n",
        "                pert_out = torch.clamp(pert_out, 0, 1)\n",
        "                if torch.norm((pert_out-image),p=float('inf')) > epsilon:\n",
        "                  break\n",
        "                pert_out = pert_out.numpy()\n",
        "              x.append(pert_out)\n",
        "              y.append(y_train[N])\n",
        "        x = np.asarray(x).reshape((batch_size, img_rows, img_cols, channels))\n",
        "        y = np.asarray(y)\n",
        "        yield x, y"
      ],
      "execution_count": null,
      "outputs": []
    },
    {
      "cell_type": "markdown",
      "metadata": {
        "id": "o7LUZyXnwO-R",
        "colab_type": "text"
      },
      "source": [
        "## Generating data using different attacks and evaluating the models "
      ]
    },
    {
      "cell_type": "code",
      "metadata": {
        "id": "w7dekSt2wa6E",
        "colab_type": "code",
        "colab": {}
      },
      "source": [
        "# Analysis before defense with adversarial inputs\n",
        "img_rows, img_cols, channels = 28, 28, 1\n",
        "comparision=pd.DataFrame()\n",
        "x_adversarial_test,y_adversarial_test = next(generate_adversarials(10000,'pgd',x_train,y_train,base_model))\n",
        "Test_Result=base_model.evaluate(x=x_adversarial_test, y=y_adversarial_test, verbose=0)\n",
        "print(Test_Result)\n",
        "comparision=comparision.append({'Model':'BaseModel','Loss':Test_Result[0],'Accuracy':Test_Result[1],'F1_Score':Test_Result[2]},ignore_index=True)\n",
        "img_rows, img_cols, channels = 32, 32, 3\n",
        "x_adversarial_test_19,y_adversarial_test_19 = next(generate_adversarials(10000,'pgd',x_train_1,y_train_1,model_vgg19))\n",
        "Test_Result=model_vgg19.evaluate(x=x_adversarial_test_19, y=y_adversarial_test_19, verbose=0)\n",
        "print(Test_Result)\n",
        "comparision=comparision.append({\"Model\":\"vgg-19\",\"Loss\":Test_Result[0],\"Accuracy\":Test_Result[1],\"F1_Score\":Test_Result[2]},ignore_index=True)\n",
        "x_adversarial_test_16,y_adversarial_test_16 = next(generate_adversarials(10000,'pgd',x_train_1,y_train_1,model_vgg16))\n",
        "Test_Result=model_vgg16.evaluate(x=x_adversarial_test_16, y=y_adversarial_test_16, verbose=0)\n",
        "comparision=comparision.append({\"Model\":\"vgg-16\",\"Loss\":Test_Result[0],\"Accuracy\":Test_Result[1],\"F1_Score\":Test_Result[2]},ignore_index=True)\n",
        "x_adversarial_test_res,y_adversarial_test_res = next(generate_adversarials(10000,'fgsm',x_train_1,y_train_1,model_resnet))\n",
        "Test_Result=model_resnet.evaluate(x=x_adversarial_test_res, y=y_adversarial_test_res, verbose=0)\n",
        "comparision=comparision.append({\"Model\":\"Resnet\",\"Loss\":Test_Result[0],\"Accuracy\":Test_Result[1],\"F1_Score\":Test_Result[2]},ignore_index=True)\n",
        "x_adversarial_test_mob,y_adversarial_test_mob = next(generate_adversarials(10000,'fgsm',x_train_1,y_train_1,model_mobilenet))\n",
        "Test_Result=model_mobilenet.evaluate(x=x_adversarial_test_mob, y=y_adversarial_test_mob, verbose=0)\n",
        "comparision=comparision.append({\"Model\":\"MobileNet\",\"Loss\":Test_Result[0],\"Accuracy\":Test_Result[1],\"F1_Score\":Test_Result[2]},ignore_index=True) "
      ],
      "execution_count": null,
      "outputs": []
    },
    {
      "cell_type": "markdown",
      "metadata": {
        "id": "cy3VESS_wgqp",
        "colab_type": "text"
      },
      "source": [
        "## Generating data with perturbated images using the different attacks for training the models and evaluating the models after training"
      ]
    },
    {
      "cell_type": "code",
      "metadata": {
        "id": "IgpYNiF31Ur1",
        "colab_type": "code",
        "colab": {}
      },
      "source": [
        "#Analysis after defending the adversarial attack on adversarial input\n",
        "img_rows, img_cols, channels = 28, 28, 1\n",
        "com_def=pd.DataFrame()\n",
        "x_adversarial_train, y_adversarial_train = next(generate_adversarials(15000,\"pgd\",x_train,y_train,base_model))\n",
        "base_model.fit(x_adversarial_train, y_adversarial_train,batch_size=256,epochs=10)\n",
        "Test_Result=base_model.evaluate(x=x_adversarial_test, y=y_adversarial_test, verbose=0)\n",
        "com_def=com_def.append({'Model':'BaseModel','Loss':Test_Result[0],'Accuracy':Test_Result[1],'F1_Score':Test_Result[2]},ignore_index=True)\n",
        "img_rows, img_cols, channels = 32, 32, 3\n",
        "x_adversarial_train,y_adversarial_train = next(generate_adversarials(15000,'pgd',x_train_1,y_train_1,model_vgg19))\n",
        "model_vgg19.fit(x_adversarial_train, y_adversarial_train,batch_size=256,epochs=10)\n",
        "Test_Result=model_vgg19.evaluate(x=x_adversarial_test_19, y=y_adversarial_test_19, verbose=0)\n",
        "com_def=com_def.append({\"Model\":\"Vgg-19\",\"Loss\":Test_Result[0],\"Accuracy\":Test_Result[1],\"F1_Score\":Test_Result[2]},ignore_index=True)\n",
        "x_adversarial_train,y_adversarial_train = next(generate_adversarials(15000,'pgd',x_train_1,y_train_1,model_vgg16))\n",
        "model_vgg16.fit(x_adversarial_train, y_adversarial_train,batch_size=256,epochs=10)\n",
        "Test_Result=model_vgg16.evaluate(x=x_adversarial_test_16, y=y_adversarial_test_16, verbose=0)\n",
        "com_def=com_def.append({\"Model\":\"Vgg-16\",\"Loss\":Test_Result[0],\"Accuracy\":Test_Result[1],\"F1_Score\":Test_Result[2]},ignore_index=True)\n",
        "x_adversarial_train,y_adversarial_train = next(generate_adversarials(15000,'fgsm',x_train_1,y_train_1,model_resnet))\n",
        "model_resnet.fit(x_adversarial_train, y_adversarial_train,batch_size=256,epochs=10)\n",
        "Test_Result=model_resnet.evaluate(x=x_adversarial_test_res, y=y_adversarial_test_res, verbose=0)\n",
        "com_def=com_def.append({\"Model\":\"Resnet\",\"Loss\":Test_Result[0],\"Accuracy\":Test_Result[1],\"F1_Score\":Test_Result[2]},ignore_index=True)\n",
        "x_adversarial_train,y_adversarial_train = next(generate_adversarials(15000,'fgsm',x_train_1,y_train_1,model_mobilenet))\n",
        "model_mobilenet.fit(x_adversarial_train, y_adversarial_train,batch_size=256,epochs=10)\n",
        "Test_Result=model_mobilenet.evaluate(x=x_adversarial_test_mob, y=y_adversarial_test_mob, verbose=0)\n",
        "com_def=com_def.append({\"Model\":\"Mobilenet\",\"Loss\":Test_Result[0],\"Accuracy\":Test_Result[1],\"F1_Score\":Test_Result[2]},ignore_index=True)"
      ],
      "execution_count": null,
      "outputs": []
    }
  ]
}