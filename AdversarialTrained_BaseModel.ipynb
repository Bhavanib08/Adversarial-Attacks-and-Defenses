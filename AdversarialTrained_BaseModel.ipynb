{
  "nbformat": 4,
  "nbformat_minor": 0,
  "metadata": {
    "colab": {
      "name": "AdversarialTrained_BaseModel.ipynb",
      "provenance": []
    },
    "kernelspec": {
      "name": "python3",
      "display_name": "Python 3"
    }
  },
  "cells": [
    {
      "cell_type": "markdown",
      "metadata": {
        "id": "q5u_7_X4oT7Y",
        "colab_type": "text"
      },
      "source": [
        "## Loading the required Libraries"
      ]
    },
    {
      "cell_type": "code",
      "metadata": {
        "id": "eMn3bHnSJjrp",
        "colab_type": "code",
        "colab": {}
      },
      "source": [
        "import tensorflow as tf\n",
        "from tensorflow.keras.datasets import mnist, cifar10, cifar100\n",
        "from keras.models import Sequential\n",
        "from keras.applications import VGG19\n",
        "from keras.applications import VGG16\n",
        "from keras.layers import Dense, Flatten\n",
        "from keras.layers import Dropout,Conv2D, MaxPooling2D,Activation\n",
        "from keras.applications import resnet50,mobilenet\n",
        "# from tensorflow.keras import Sequential\n",
        "import numpy as np\n",
        "import random\n",
        "import numpy as np\n",
        "import matplotlib.pyplot as plt\n",
        "import torch\n",
        "import torch.nn as nn\n",
        "import torch.nn.functional as F\n",
        "import torch.optim as optim\n",
        "from torchvision import transforms,datasets\n",
        "import pandas as pd\n",
        "import warnings\n",
        "warnings.filterwarnings('ignore')"
      ],
      "execution_count": 49,
      "outputs": []
    },
    {
      "cell_type": "markdown",
      "metadata": {
        "id": "jlgfpjepocSY",
        "colab_type": "text"
      },
      "source": [
        "## Loading the Dataset"
      ]
    },
    {
      "cell_type": "code",
      "metadata": {
        "id": "zdMULz3ZJoDy",
        "colab_type": "code",
        "colab": {
          "base_uri": "https://localhost:8080/",
          "height": 34
        },
        "outputId": "33a7eea4-581f-4a1c-f097-935ccba42c37"
      },
      "source": [
        "(x_train, y_train), (x_test, y_test) = mnist.load_data()\n",
        "x_train.shape"
      ],
      "execution_count": 50,
      "outputs": [
        {
          "output_type": "execute_result",
          "data": {
            "text/plain": [
              "(60000, 28, 28)"
            ]
          },
          "metadata": {
            "tags": []
          },
          "execution_count": 50
        }
      ]
    },
    {
      "cell_type": "markdown",
      "metadata": {
        "id": "Yo5Gdvsxog2t",
        "colab_type": "text"
      },
      "source": [
        "## Normalizing and reshaping the data"
      ]
    },
    {
      "cell_type": "code",
      "metadata": {
        "id": "faDSVWJKJru5",
        "colab_type": "code",
        "colab": {
          "base_uri": "https://localhost:8080/",
          "height": 34
        },
        "outputId": "1bb038a8-4f4a-4e60-bcc6-856658dbfdac"
      },
      "source": [
        "img_rows, img_cols, channels = 28, 28, 1\n",
        "num_classes = 10\n",
        "x_train = x_train / 255\n",
        "x_test = x_test / 255\n",
        "x_train = x_train.reshape((-1, img_rows, img_cols, channels))\n",
        "x_test = x_test.reshape((-1, img_rows, img_cols, channels))\n",
        "y_train = tf.keras.utils.to_categorical(y_train, num_classes)\n",
        "y_test = tf.keras.utils.to_categorical(y_test, num_classes)\n",
        "print(\"Data shapes\", x_test.shape, y_test.shape, x_train.shape, y_train.shape)"
      ],
      "execution_count": 51,
      "outputs": [
        {
          "output_type": "stream",
          "text": [
            "Data shapes (10000, 28, 28, 1) (10000, 10) (60000, 28, 28, 1) (60000, 10)\n"
          ],
          "name": "stdout"
        }
      ]
    },
    {
      "cell_type": "markdown",
      "metadata": {
        "id": "m5BeEiG2opOh",
        "colab_type": "text"
      },
      "source": [
        "## Defining the functions for recall, F1score and Precision"
      ]
    },
    {
      "cell_type": "code",
      "metadata": {
        "id": "KgNqPWowJukE",
        "colab_type": "code",
        "colab": {}
      },
      "source": [
        "from keras import backend as K\n",
        "def recall_m(y_true, y_pred):\n",
        "    true_positives = K.sum(K.round(K.clip(y_true * y_pred, 0, 1)))\n",
        "    possible_positives = K.sum(K.round(K.clip(y_true, 0, 1)))\n",
        "    recall = true_positives / (possible_positives + K.epsilon())\n",
        "    return recall\n",
        "\n",
        "def precision_m(y_true, y_pred):\n",
        "    true_positives = K.sum(K.round(K.clip(y_true * y_pred, 0, 1)))\n",
        "    predicted_positives = K.sum(K.round(K.clip(y_pred, 0, 1)))\n",
        "    precision = true_positives / (predicted_positives + K.epsilon())\n",
        "    return precision\n",
        "\n",
        "def f1_m(y_true, y_pred):\n",
        "    precision = precision_m(y_true, y_pred)\n",
        "    recall = recall_m(y_true, y_pred)\n",
        "    return 2*((precision*recall)/(precision+recall+K.epsilon()))"
      ],
      "execution_count": 52,
      "outputs": []
    },
    {
      "cell_type": "markdown",
      "metadata": {
        "id": "c2z8Ao29oznq",
        "colab_type": "text"
      },
      "source": [
        "## BaseLine Model"
      ]
    },
    {
      "cell_type": "code",
      "metadata": {
        "id": "STB7Q64lJxvM",
        "colab_type": "code",
        "colab": {}
      },
      "source": [
        "def create_basemodel():\n",
        "    model = Sequential()\n",
        "    model.add(Conv2D(32, kernel_size=(3, 3), strides=(3, 3), padding='same', activation='relu', input_shape=(img_rows, img_cols, channels)))\n",
        "    model.add(Conv2D(64, kernel_size=(3, 3), strides=(3, 3), padding='same', activation='relu'))\n",
        "    model.add(Conv2D(64, kernel_size=(3, 3), strides=(3, 3), padding='same', activation='relu'))\n",
        "    model.add(MaxPooling2D(pool_size=(2, 2)))\n",
        "    model.add(Dropout(0.2))\n",
        "    model.add(Flatten())\n",
        "    model.add(Dense(32))\n",
        "    model.add(Dropout(0.2))\n",
        "    model.add(Dense(32))\n",
        "    model.add(Dropout(0.2))\n",
        "    model.add(Dense(num_classes, activation='softmax'))\n",
        "    model.compile(optimizer='adam', loss='categorical_crossentropy', metrics=['accuracy',f1_m,precision_m,recall_m])\n",
        "    return model"
      ],
      "execution_count": 53,
      "outputs": []
    },
    {
      "cell_type": "markdown",
      "metadata": {
        "id": "6blrMwxLo37J",
        "colab_type": "text"
      },
      "source": [
        "## Training the model and Saving the weights"
      ]
    },
    {
      "cell_type": "code",
      "metadata": {
        "id": "1TfDnVTtJ0ms",
        "colab_type": "code",
        "colab": {
          "base_uri": "https://localhost:8080/",
          "height": 384
        },
        "outputId": "7cf643e1-aa40-41c4-9bea-671ab7f7d086"
      },
      "source": [
        "base_model = create_basemodel()\n",
        "history=base_model.fit(x_train, y_train,batch_size=258,epochs=10)\n",
        "# base_model.save('base_model_nrml.h5')"
      ],
      "execution_count": 55,
      "outputs": [
        {
          "output_type": "stream",
          "text": [
            "Epoch 1/10\n",
            "233/233 [==============================] - 8s 33ms/step - loss: 0.7900 - accuracy: 0.7537 - f1_m: 0.6908 - precision_m: 0.7908 - recall_m: 0.6387\n",
            "Epoch 2/10\n",
            "233/233 [==============================] - 8s 33ms/step - loss: 0.2742 - accuracy: 0.9182 - f1_m: 0.9177 - precision_m: 0.9366 - recall_m: 0.8995\n",
            "Epoch 3/10\n",
            "233/233 [==============================] - 8s 33ms/step - loss: 0.2082 - accuracy: 0.9384 - f1_m: 0.9389 - precision_m: 0.9519 - recall_m: 0.9263\n",
            "Epoch 4/10\n",
            "233/233 [==============================] - 8s 35ms/step - loss: 0.1716 - accuracy: 0.9491 - f1_m: 0.9497 - precision_m: 0.9587 - recall_m: 0.9410\n",
            "Epoch 5/10\n",
            "233/233 [==============================] - 8s 34ms/step - loss: 0.1531 - accuracy: 0.9541 - f1_m: 0.9550 - precision_m: 0.9631 - recall_m: 0.9472\n",
            "Epoch 6/10\n",
            "233/233 [==============================] - 8s 34ms/step - loss: 0.1365 - accuracy: 0.9588 - f1_m: 0.9592 - precision_m: 0.9663 - recall_m: 0.9522\n",
            "Epoch 7/10\n",
            "233/233 [==============================] - 8s 33ms/step - loss: 0.1290 - accuracy: 0.9618 - f1_m: 0.9617 - precision_m: 0.9677 - recall_m: 0.9558\n",
            "Epoch 8/10\n",
            "233/233 [==============================] - 8s 34ms/step - loss: 0.1160 - accuracy: 0.9660 - f1_m: 0.9661 - precision_m: 0.9713 - recall_m: 0.9610\n",
            "Epoch 9/10\n",
            "233/233 [==============================] - 8s 33ms/step - loss: 0.1075 - accuracy: 0.9682 - f1_m: 0.9683 - precision_m: 0.9730 - recall_m: 0.9637\n",
            "Epoch 10/10\n",
            "233/233 [==============================] - 8s 33ms/step - loss: 0.1002 - accuracy: 0.9699 - f1_m: 0.9702 - precision_m: 0.9745 - recall_m: 0.9660\n"
          ],
          "name": "stdout"
        }
      ]
    },
    {
      "cell_type": "code",
      "metadata": {
        "id": "d875_rpKHvfF",
        "colab_type": "code",
        "colab": {}
      },
      "source": [
        "base_model.save(r'/content/drive/My Drive/saved_models_nrml/base_model_nrml.h5')"
      ],
      "execution_count": 14,
      "outputs": []
    },
    {
      "cell_type": "code",
      "metadata": {
        "id": "MfDMeRIAJ5fd",
        "colab_type": "code",
        "colab": {
          "base_uri": "https://localhost:8080/",
          "height": 86
        },
        "outputId": "a4181a24-5bf0-4973-db65-3b0db89d6fa8"
      },
      "source": [
        "Test_Result=base_model.evaluate(x=x_test, y=y_test, verbose=0)\n",
        "print(\"Analysis on normal Images\")\n",
        "print(\"Base Loss: \", Test_Result[0])\n",
        "print(\"Accuracy :\" , Test_Result[1])\n",
        "print(\"F1_Score :\", Test_Result[2])"
      ],
      "execution_count": 56,
      "outputs": [
        {
          "output_type": "stream",
          "text": [
            "Analysis on normal Images\n",
            "Base Loss:  0.05534285306930542\n",
            "Accuracy : 0.9829000234603882\n",
            "F1_Score : 0.9826865792274475\n"
          ],
          "name": "stdout"
        }
      ]
    },
    {
      "cell_type": "markdown",
      "metadata": {
        "id": "vh_JFhKppATK",
        "colab_type": "text"
      },
      "source": [
        "## Defining functions for generating attacks"
      ]
    },
    {
      "cell_type": "code",
      "metadata": {
        "id": "bMHYv29FKBHo",
        "colab_type": "code",
        "colab": {}
      },
      "source": [
        "def adversarial_pattern(image, label,model):\n",
        "    image = tf.cast(image, tf.float32)\n",
        "    with tf.GradientTape() as tape:\n",
        "        tape.watch(image)\n",
        "        prediction = model(image)\n",
        "        loss = tf.keras.losses.MSE(label, prediction)\n",
        "    gradient = tape.gradient(loss, image)\n",
        "    signed_grad = tf.sign(gradient)\n",
        "    return signed_grad"
      ],
      "execution_count": 57,
      "outputs": []
    },
    {
      "cell_type": "code",
      "metadata": {
        "id": "IweR1alfKF86",
        "colab_type": "code",
        "colab": {}
      },
      "source": [
        "def generate_adversarials(batch_size,attack,x_train,y_train,model):\n",
        "    while True:\n",
        "        x = []\n",
        "        y = []\n",
        "        for batch in range(batch_size):\n",
        "            N = random.randint(0, 100)\n",
        "            label = y_train[N]\n",
        "            image = x_train[N]\n",
        "            perturbations = adversarial_pattern(image.reshape(-1,img_rows, img_cols, channels),label,model).numpy()\n",
        "            epsilon = 0.1\n",
        "            decay_factor=1.0\n",
        "            iter = 10\n",
        "            alpha = epsilon/iter\n",
        "            g=0\n",
        "            pert_out = image\n",
        "            if attack == \"fgsm\":\n",
        "              epsilon = 0.1\n",
        "              pert_out = pert_out + perturbations * epsilon\n",
        "              x.append(pert_out)\n",
        "              y.append(y_train[N])\n",
        "            elif attack == \"sp\":\n",
        "              row,col,ch = image.shape\n",
        "              s_vs_p = 0.5\n",
        "              amount = 0.4\n",
        "              out = np.copy(image)\n",
        "              # Salt mode\n",
        "              num_salt = np.ceil(amount * image.size * s_vs_p)\n",
        "              # print(num_salt)\n",
        "              for j in image.shape:\n",
        "                  if j == 1 :\n",
        "                      coords = np.random.randint(0, int(num_salt))\n",
        "                  else:\n",
        "                      coords = np.random.randint(0, j - 1, int(num_salt))\n",
        "              # print(coords)\n",
        "              out[coords[0]] = 1\n",
        "\n",
        "              # Pepper mode\n",
        "              num_pepper = np.ceil(amount* image.size * (1. - s_vs_p))\n",
        "              # print (num_pepper)\n",
        "              for j in image.shape:\n",
        "                  if j == 1 :\n",
        "                      coords = np.random.randint(0, int(num_salt))\n",
        "                  else:\n",
        "                      coords = np.random.randint(0, j - 1, int(num_salt))\n",
        "              out[coords[0]] = 0\n",
        "              # plt.imshow(out)\n",
        "              # plt.show()\n",
        "              print(out)\n",
        "              x.append(out)\n",
        "              y.append(train_y_final[N])\n",
        "            elif attack == \"rnoise\":\n",
        "              noise_factor = 1\n",
        "              noisy = image + noise_factor * np.random.normal(loc=0.0, scale=1.0, size=image.shape) \n",
        "              out = np.clip(noisy, 0., 1.)\n",
        "              x.append(out)\n",
        "              y.append(y_train[N])\n",
        "            elif attack == \"pgd\":\n",
        "              for i in range(iter-1):\n",
        "                pert_out = pert_out + alpha*perturbations\n",
        "                pert_out = torch.from_numpy(pert_out)\n",
        "                pert_out = torch.clamp(pert_out, 0, 1)\n",
        "                if torch.norm((pert_out-image),p=float('inf')) > epsilon:\n",
        "                  break\n",
        "                pert_out = pert_out.numpy()\n",
        "              x.append(pert_out)\n",
        "              y.append(y_train[N])\n",
        "            elif attack == \"mifgsm\":\n",
        "              for i in range(iter-1):\n",
        "                p = torch.from_numpy(perturbations)\n",
        "                g = decay_factor*g + p/torch.norm(p)\n",
        "                pert_out = torch.from_numpy(pert_out)\n",
        "                pert_out = pert_out + alpha*torch.sign(g)\n",
        "                pert_out = torch.clamp(pert_out, 0, 1)\n",
        "                if torch.norm((pert_out-image),p=float('inf')) > epsilon:\n",
        "                  break\n",
        "                pert_out = pert_out.numpy()\n",
        "              x.append(pert_out)\n",
        "              y.append(y_train[N])\n",
        "        x = np.asarray(x).reshape((batch_size, img_rows, img_cols, channels))\n",
        "        y = np.asarray(y)\n",
        "        yield x, y"
      ],
      "execution_count": 58,
      "outputs": []
    },
    {
      "cell_type": "markdown",
      "metadata": {
        "id": "8kMqlW6upH8o",
        "colab_type": "text"
      },
      "source": [
        "## Generating data with perturbated images using **FGSM** and evaluating the model's performance on the generated data"
      ]
    },
    {
      "cell_type": "code",
      "metadata": {
        "id": "SgvVIFftKIvI",
        "colab_type": "code",
        "colab": {
          "base_uri": "https://localhost:8080/",
          "height": 34
        },
        "outputId": "5399b279-48da-4496-e1be-63176ebe6aac"
      },
      "source": [
        "#Analysis before defense with adversarial inputs\n",
        "img_rows, img_cols, channels = 28, 28, 1\n",
        "x_adversarial_test,y_adversarial_test = next(generate_adversarials(10000,'fgsm',x_train,y_train,base_model))\n",
        "Test_Result=base_model.evaluate(x=x_adversarial_test, y=y_adversarial_test, verbose=0)\n",
        "print(Test_Result)"
      ],
      "execution_count": 64,
      "outputs": [
        {
          "output_type": "stream",
          "text": [
            "[2.958076238632202, 0.275299996137619, 0.22927746176719666, 0.2472507357597351, 0.21425719559192657]\n"
          ],
          "name": "stdout"
        }
      ]
    },
    {
      "cell_type": "markdown",
      "metadata": {
        "id": "TpNpt-9MpZz2",
        "colab_type": "text"
      },
      "source": [
        "## Generating a data of perturbated images using **FGSM** to train the model and evaluating the model after training"
      ]
    },
    {
      "cell_type": "code",
      "metadata": {
        "id": "2LZ3XV3kKN4Q",
        "colab_type": "code",
        "colab": {
          "base_uri": "https://localhost:8080/",
          "height": 402
        },
        "outputId": "29490c1d-9c2f-44d0-e6bb-ec7ac32e6a30"
      },
      "source": [
        "img_rows, img_cols, channels = 28, 28, 1\n",
        "x_adversarial_train, y_adversarial_train = next(generate_adversarials(15000,\"fgsm\",x_train,y_train,base_model))\n",
        "fgsm_model = create_basemodel()\n",
        "fgsm_model.load_weights(r'/content/drive/My Drive/saved_models_nrml/base_model_nrml.h5')\n",
        "fgsm_model.fit(x_adversarial_train, y_adversarial_train,batch_size=256,epochs=10)\n",
        "Test_Result=fgsm_model.evaluate(x=x_adversarial_test, y=y_adversarial_test, verbose=0)\n",
        "print(Test_Result)"
      ],
      "execution_count": 65,
      "outputs": [
        {
          "output_type": "stream",
          "text": [
            "Epoch 1/10\n",
            "59/59 [==============================] - 2s 32ms/step - loss: 0.1306 - accuracy: 0.9629 - f1_m: 0.9630 - precision_m: 0.9680 - recall_m: 0.9583\n",
            "Epoch 2/10\n",
            "59/59 [==============================] - 2s 33ms/step - loss: 0.0085 - accuracy: 0.9984 - f1_m: 0.9984 - precision_m: 0.9985 - recall_m: 0.9982\n",
            "Epoch 3/10\n",
            "59/59 [==============================] - 2s 33ms/step - loss: 0.0046 - accuracy: 0.9991 - f1_m: 0.9991 - precision_m: 0.9992 - recall_m: 0.9991\n",
            "Epoch 4/10\n",
            "59/59 [==============================] - 2s 33ms/step - loss: 0.0044 - accuracy: 0.9989 - f1_m: 0.9989 - precision_m: 0.9989 - recall_m: 0.9989\n",
            "Epoch 5/10\n",
            "59/59 [==============================] - 2s 33ms/step - loss: 0.0026 - accuracy: 0.9994 - f1_m: 0.9994 - precision_m: 0.9995 - recall_m: 0.9994\n",
            "Epoch 6/10\n",
            "59/59 [==============================] - 2s 33ms/step - loss: 0.0021 - accuracy: 0.9995 - f1_m: 0.9994 - precision_m: 0.9994 - recall_m: 0.9994\n",
            "Epoch 7/10\n",
            "59/59 [==============================] - 2s 33ms/step - loss: 0.0017 - accuracy: 0.9997 - f1_m: 0.9997 - precision_m: 0.9997 - recall_m: 0.9997\n",
            "Epoch 8/10\n",
            "59/59 [==============================] - 2s 33ms/step - loss: 0.0014 - accuracy: 0.9996 - f1_m: 0.9996 - precision_m: 0.9996 - recall_m: 0.9996\n",
            "Epoch 9/10\n",
            "59/59 [==============================] - 2s 33ms/step - loss: 0.0012 - accuracy: 0.9998 - f1_m: 0.9998 - precision_m: 0.9998 - recall_m: 0.9997\n",
            "Epoch 10/10\n",
            "59/59 [==============================] - 2s 33ms/step - loss: 0.0012 - accuracy: 0.9998 - f1_m: 0.9998 - precision_m: 0.9998 - recall_m: 0.9998\n",
            "[6.634647888859035e-07, 1.0, 1.0, 1.0, 1.0]\n"
          ],
          "name": "stdout"
        }
      ]
    },
    {
      "cell_type": "markdown",
      "metadata": {
        "id": "oocqQn_hp1rT",
        "colab_type": "text"
      },
      "source": [
        "## Generating data with perturbated images using **PGD** and evaluating the model's performance on the generated data"
      ]
    },
    {
      "cell_type": "code",
      "metadata": {
        "id": "3l_rxRGGLUci",
        "colab_type": "code",
        "colab": {
          "base_uri": "https://localhost:8080/",
          "height": 34
        },
        "outputId": "5be1e2ac-7efd-4f42-84db-ca469f5aa3b9"
      },
      "source": [
        "#Analysis before defense with adversarial inputs\n",
        "img_rows, img_cols, channels = 28,28,1\n",
        "# comparision=pd.DataFrame()\n",
        "x_adversarial_test,y_adversarial_test = next(generate_adversarials(10000,'pgd',x_train,y_train,base_model))\n",
        "Test_Result=base_model.evaluate(x=x_adversarial_test, y=y_adversarial_test, verbose=0)\n",
        "print(Test_Result)"
      ],
      "execution_count": 66,
      "outputs": [
        {
          "output_type": "stream",
          "text": [
            "[1.1061619520187378, 0.660099983215332, 0.6655484437942505, 0.6832377314567566, 0.6493610143661499]\n"
          ],
          "name": "stdout"
        }
      ]
    },
    {
      "cell_type": "markdown",
      "metadata": {
        "id": "5bFd28g6p5nB",
        "colab_type": "text"
      },
      "source": [
        "## Generating a data of perturbated images using **PGD** to train the model and evaluating the model after training"
      ]
    },
    {
      "cell_type": "code",
      "metadata": {
        "id": "eXYtjT-ML6Fs",
        "colab_type": "code",
        "colab": {
          "base_uri": "https://localhost:8080/",
          "height": 402
        },
        "outputId": "7d8a3f62-2d25-49f4-b39f-082d7af23ae8"
      },
      "source": [
        "img_rows, img_cols, channels = 28, 28, 1\n",
        "x_adversarial_train, y_adversarial_train = next(generate_adversarials(15000,\"pgd\",x_train,y_train,base_model))\n",
        "pgd_model = create_basemodel()\n",
        "pgd_model.load_weights(r'/content/drive/My Drive/saved_models_nrml/base_model_nrml.h5')\n",
        "pgd_model.fit(x_adversarial_train, y_adversarial_train,batch_size=256,epochs=10)\n",
        "Test_Result=pgd_model.evaluate(x=x_adversarial_test, y=y_adversarial_test, verbose=0)\n",
        "print(Test_Result)"
      ],
      "execution_count": 68,
      "outputs": [
        {
          "output_type": "stream",
          "text": [
            "Epoch 1/10\n",
            "59/59 [==============================] - 2s 33ms/step - loss: 0.0584 - accuracy: 0.9848 - f1_m: 0.9842 - precision_m: 0.9872 - recall_m: 0.9814\n",
            "Epoch 2/10\n",
            "59/59 [==============================] - 2s 32ms/step - loss: 0.0047 - accuracy: 0.9992 - f1_m: 0.9992 - precision_m: 0.9993 - recall_m: 0.9992\n",
            "Epoch 3/10\n",
            "59/59 [==============================] - 2s 32ms/step - loss: 0.0032 - accuracy: 0.9992 - f1_m: 0.9992 - precision_m: 0.9992 - recall_m: 0.9992\n",
            "Epoch 4/10\n",
            "59/59 [==============================] - 2s 32ms/step - loss: 0.0027 - accuracy: 0.9995 - f1_m: 0.9996 - precision_m: 0.9996 - recall_m: 0.9995\n",
            "Epoch 5/10\n",
            "59/59 [==============================] - 2s 33ms/step - loss: 0.0019 - accuracy: 0.9998 - f1_m: 0.9998 - precision_m: 0.9998 - recall_m: 0.9997\n",
            "Epoch 6/10\n",
            "59/59 [==============================] - 2s 32ms/step - loss: 0.0015 - accuracy: 0.9996 - f1_m: 0.9996 - precision_m: 0.9996 - recall_m: 0.9996\n",
            "Epoch 7/10\n",
            "59/59 [==============================] - 3s 57ms/step - loss: 9.9618e-04 - accuracy: 0.9999 - f1_m: 0.9999 - precision_m: 0.9999 - recall_m: 0.9999\n",
            "Epoch 8/10\n",
            "59/59 [==============================] - 2s 35ms/step - loss: 0.0019 - accuracy: 0.9995 - f1_m: 0.9995 - precision_m: 0.9995 - recall_m: 0.9995\n",
            "Epoch 9/10\n",
            "59/59 [==============================] - 2s 33ms/step - loss: 0.0017 - accuracy: 0.9996 - f1_m: 0.9996 - precision_m: 0.9996 - recall_m: 0.9996\n",
            "Epoch 10/10\n",
            "59/59 [==============================] - 2s 33ms/step - loss: 0.0014 - accuracy: 0.9996 - f1_m: 0.9996 - precision_m: 0.9996 - recall_m: 0.9996\n",
            "[1.775383253743712e-07, 1.0, 1.0, 1.0, 1.0]\n"
          ],
          "name": "stdout"
        }
      ]
    },
    {
      "cell_type": "markdown",
      "metadata": {
        "id": "J_1pURa_qDCT",
        "colab_type": "text"
      },
      "source": [
        "## Generating data with perturbated images using **MIFGSM** and evaluating the model's performance on the generated data"
      ]
    },
    {
      "cell_type": "code",
      "metadata": {
        "id": "H3htIniuPvds",
        "colab_type": "code",
        "colab": {
          "base_uri": "https://localhost:8080/",
          "height": 34
        },
        "outputId": "ccd1970d-6516-4527-f25c-ae5f4bcc4863"
      },
      "source": [
        "#Analysis before defense with adversarial inputs\n",
        "img_rows, img_cols, channels = 28,28,1\n",
        "# comparision=pd.DataFrame()\n",
        "x_adversarial_test,y_adversarial_test = next(generate_adversarials(10000,'mifgsm',x_train,y_train,base_model))\n",
        "Test_Result=base_model.evaluate(x=x_adversarial_test, y=y_adversarial_test, verbose=0)\n",
        "print(Test_Result)"
      ],
      "execution_count": 69,
      "outputs": [
        {
          "output_type": "stream",
          "text": [
            "[1.1263490915298462, 0.6486999988555908, 0.6544972658157349, 0.6713201999664307, 0.6389776468276978]\n"
          ],
          "name": "stdout"
        }
      ]
    },
    {
      "cell_type": "markdown",
      "metadata": {
        "id": "euCDqIJHp8up",
        "colab_type": "text"
      },
      "source": [
        "## Generating a data of perturbated images using **MIFGSM** to train the model and evaluating the model after training"
      ]
    },
    {
      "cell_type": "code",
      "metadata": {
        "id": "tYT-OjvKSXjk",
        "colab_type": "code",
        "colab": {
          "base_uri": "https://localhost:8080/",
          "height": 402
        },
        "outputId": "69a9e34a-544b-44a9-da3b-1a2c0808a25e"
      },
      "source": [
        "img_rows, img_cols, channels = 28, 28, 1\n",
        "x_adversarial_train, y_adversarial_train = next(generate_adversarials(15000,\"mifgsm\",x_train,y_train,base_model))\n",
        "mifgsm_model = create_basemodel()\n",
        "mifgsm_model.load_weights(r'/content/drive/My Drive/saved_models_nrml/base_model_nrml.h5')\n",
        "mifgsm_model.fit(x_adversarial_train, y_adversarial_train,batch_size=256,epochs=10)\n",
        "Test_Result=mifgsm_model.evaluate(x=x_adversarial_test, y=y_adversarial_test, verbose=0)\n",
        "print(Test_Result)"
      ],
      "execution_count": 70,
      "outputs": [
        {
          "output_type": "stream",
          "text": [
            "Epoch 1/10\n",
            "59/59 [==============================] - 2s 32ms/step - loss: 0.0535 - accuracy: 0.9845 - f1_m: 0.9847 - precision_m: 0.9870 - recall_m: 0.9824\n",
            "Epoch 2/10\n",
            "59/59 [==============================] - 2s 33ms/step - loss: 0.0048 - accuracy: 0.9993 - f1_m: 0.9992 - precision_m: 0.9993 - recall_m: 0.9992\n",
            "Epoch 3/10\n",
            "59/59 [==============================] - 2s 33ms/step - loss: 0.0026 - accuracy: 0.9997 - f1_m: 0.9997 - precision_m: 0.9997 - recall_m: 0.9997\n",
            "Epoch 4/10\n",
            "59/59 [==============================] - 2s 32ms/step - loss: 0.0031 - accuracy: 0.9992 - f1_m: 0.9992 - precision_m: 0.9993 - recall_m: 0.9991\n",
            "Epoch 5/10\n",
            "59/59 [==============================] - 2s 32ms/step - loss: 0.0018 - accuracy: 0.9997 - f1_m: 0.9997 - precision_m: 0.9997 - recall_m: 0.9997\n",
            "Epoch 6/10\n",
            "59/59 [==============================] - 2s 32ms/step - loss: 0.0013 - accuracy: 0.9998 - f1_m: 0.9998 - precision_m: 0.9998 - recall_m: 0.9997\n",
            "Epoch 7/10\n",
            "59/59 [==============================] - 2s 32ms/step - loss: 0.0018 - accuracy: 0.9995 - f1_m: 0.9995 - precision_m: 0.9995 - recall_m: 0.9995\n",
            "Epoch 8/10\n",
            "59/59 [==============================] - 2s 32ms/step - loss: 0.0016 - accuracy: 0.9995 - f1_m: 0.9996 - precision_m: 0.9996 - recall_m: 0.9995\n",
            "Epoch 9/10\n",
            "59/59 [==============================] - 2s 33ms/step - loss: 0.0017 - accuracy: 0.9994 - f1_m: 0.9995 - precision_m: 0.9995 - recall_m: 0.9994\n",
            "Epoch 10/10\n",
            "59/59 [==============================] - 2s 32ms/step - loss: 0.0020 - accuracy: 0.9996 - f1_m: 0.9996 - precision_m: 0.9996 - recall_m: 0.9995\n",
            "[3.359186564466654e-07, 1.0, 1.0, 1.0, 1.0]\n"
          ],
          "name": "stdout"
        }
      ]
    },
    {
      "cell_type": "markdown",
      "metadata": {
        "id": "sLyQ_5HHqRfu",
        "colab_type": "text"
      },
      "source": [
        "## Generating data with perturbated images using **Rnoise** and evaluating the model's performance on the generated data"
      ]
    },
    {
      "cell_type": "code",
      "metadata": {
        "id": "kmk9Iz2tS8yu",
        "colab_type": "code",
        "colab": {
          "base_uri": "https://localhost:8080/",
          "height": 34
        },
        "outputId": "7734f771-e48f-45b8-d69e-357be8ed177d"
      },
      "source": [
        "#Analysis before defense with adversarial inputs\n",
        "img_rows, img_cols, channels = 28,28,1\n",
        "# comparision=pd.DataFrame()\n",
        "x_adversarial_test,y_adversarial_test = next(generate_adversarials(10000,'rnoise',x_train,y_train,base_model))\n",
        "Test_Result=base_model.evaluate(x=x_adversarial_test, y=y_adversarial_test, verbose=0)\n",
        "print(Test_Result)"
      ],
      "execution_count": 71,
      "outputs": [
        {
          "output_type": "stream",
          "text": [
            "[6.733301639556885, 0.1396999955177307, 0.134746715426445, 0.14641985297203064, 0.12509983777999878]\n"
          ],
          "name": "stdout"
        }
      ]
    },
    {
      "cell_type": "markdown",
      "metadata": {
        "id": "UAB9YrgzqXfy",
        "colab_type": "text"
      },
      "source": [
        "## Generating a data of perturbated images using **Rnoise** to train the model and evaluating the model after training"
      ]
    },
    {
      "cell_type": "code",
      "metadata": {
        "id": "cWN99_OzTc60",
        "colab_type": "code",
        "colab": {
          "base_uri": "https://localhost:8080/",
          "height": 402
        },
        "outputId": "6b82e1b0-e30c-47c1-9711-411381ebbd63"
      },
      "source": [
        "img_rows, img_cols, channels = 28, 28, 1\n",
        "x_adversarial_train, y_adversarial_train = next(generate_adversarials(15000,\"rnoise\",x_train,y_train,base_model))\n",
        "rnoise_model = create_basemodel()\n",
        "rnoise_model.load_weights(r'/content/drive/My Drive/saved_models_nrml/base_model_nrml.h5')\n",
        "rnoise_model.fit(x_adversarial_train, y_adversarial_train,batch_size=256,epochs=10)\n",
        "Test_Result=rnoise_model.evaluate(x=x_adversarial_test, y=y_adversarial_test, verbose=0)\n",
        "print(Test_Result)"
      ],
      "execution_count": 72,
      "outputs": [
        {
          "output_type": "stream",
          "text": [
            "Epoch 1/10\n",
            "59/59 [==============================] - 2s 32ms/step - loss: 2.1970 - accuracy: 0.3755 - f1_m: 0.3033 - precision_m: 0.5483 - recall_m: 0.2148\n",
            "Epoch 2/10\n",
            "59/59 [==============================] - 2s 32ms/step - loss: 1.2441 - accuracy: 0.5875 - f1_m: 0.5589 - precision_m: 0.7420 - recall_m: 0.4498\n",
            "Epoch 3/10\n",
            "59/59 [==============================] - 2s 32ms/step - loss: 0.9954 - accuracy: 0.6715 - f1_m: 0.6532 - precision_m: 0.7843 - recall_m: 0.5603\n",
            "Epoch 4/10\n",
            "59/59 [==============================] - 2s 33ms/step - loss: 0.8563 - accuracy: 0.7167 - f1_m: 0.7053 - precision_m: 0.8082 - recall_m: 0.6259\n",
            "Epoch 5/10\n",
            "59/59 [==============================] - 2s 35ms/step - loss: 0.7612 - accuracy: 0.7424 - f1_m: 0.7350 - precision_m: 0.8265 - recall_m: 0.6621\n",
            "Epoch 6/10\n",
            "59/59 [==============================] - 2s 33ms/step - loss: 0.6857 - accuracy: 0.7715 - f1_m: 0.7665 - precision_m: 0.8472 - recall_m: 0.7003\n",
            "Epoch 7/10\n",
            "59/59 [==============================] - 2s 33ms/step - loss: 0.6240 - accuracy: 0.7895 - f1_m: 0.7832 - precision_m: 0.8528 - recall_m: 0.7242\n",
            "Epoch 8/10\n",
            "59/59 [==============================] - 2s 33ms/step - loss: 0.5905 - accuracy: 0.7975 - f1_m: 0.7968 - precision_m: 0.8604 - recall_m: 0.7421\n",
            "Epoch 9/10\n",
            "59/59 [==============================] - 2s 33ms/step - loss: 0.5423 - accuracy: 0.8155 - f1_m: 0.8112 - precision_m: 0.8679 - recall_m: 0.7618\n",
            "Epoch 10/10\n",
            "59/59 [==============================] - 2s 33ms/step - loss: 0.5123 - accuracy: 0.8269 - f1_m: 0.8247 - precision_m: 0.8771 - recall_m: 0.7782\n",
            "[0.41174745559692383, 0.86080002784729, 0.8605743646621704, 0.9038483500480652, 0.8223841786384583]\n"
          ],
          "name": "stdout"
        }
      ]
    }
  ]
}